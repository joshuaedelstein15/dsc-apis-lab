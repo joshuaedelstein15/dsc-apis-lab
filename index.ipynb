{
 "cells": [
  {
   "cell_type": "markdown",
   "metadata": {},
   "source": [
    "# APIs - Cumulative Lab\n",
    "\n",
    "\n",
    "## Introduction \n",
    "\n",
    "We've seen how the Yelp API works and how to create basic visualizations using Folium. It's time to put those skills to work in order to create a working map! Taking things a step further, you'll also independently explore how to perform pagination in order to retrieve a full results set from the Yelp API.\n",
    "\n",
    "## Objectives\n",
    "\n",
    "You will be able to: \n",
    "\n",
    "* Practice using functions to organize your code\n",
    "* Use pagination to retrieve all results from an API query\n",
    "* Practice parsing data returned from an API query\n",
    "* Practice interpreting visualizations of a dataset\n",
    "* Create maps using Folium"
   ]
  },
  {
   "cell_type": "markdown",
   "metadata": {},
   "source": [
    "## Your Task: Query Yelp for All Businesses in a Category and Analyze the Results\n",
    "\n",
    "![restaurant counter with pizza](images/restaurant_counter.jpg)\n",
    "\n",
    "Photo by <a href=\"https://unsplash.com/@jordanmadrid?utm_source=unsplash&utm_medium=referral&utm_content=creditCopyText\">Jordan Madrid</a> on <a href=\"/s/photos/pizza-restaurant?utm_source=unsplash&utm_medium=referral&utm_content=creditCopyText\">Unsplash</a>"
   ]
  },
  {
   "cell_type": "markdown",
   "metadata": {},
   "source": [
    "### Overview\n",
    "\n",
    "You've now worked with some API calls, but we have yet to see how to retrieve a more complete dataset in a programmatic manner. In this lab, you will write a query of businesses on Yelp, then use *pagination* to retrieve all possible results for that query. Then you will create a summary of your findings, including a Folium map of the geographic locations of those businesses.\n",
    "\n",
    "### Technical Details\n",
    "\n",
    "Returning to the Yelp API, the [documentation](https://www.yelp.com/developers/documentation/v3/business_search) also provides us details regarding the **API limits**. These often include details about the number of requests a user is allowed to make within a specified time limit and the maximum number of results to be returned. In this case, we are told that any request has a **maximum of 50 results per request** and defaults to 20. Furthermore, any search will be limited to a **total of 1000 results**. To retrieve all 1000 of these results, we would have to page through the results piece by piece, retrieving 50 at a time. Processes such as these are often referred to as pagination.\n",
    "\n",
    "Also, be mindful of the **API** ***rate*** **limits**. You can only make **5000 requests per day** and are also can make requests too fast. Start prototyping small before running a loop that could be faulty. You can also use `time.sleep(n)` to add delays. For more details see https://www.yelp.com/developers/documentation/v3/rate_limiting.\n",
    "\n",
    "In this lab, you will define a search and then paginate over the results to retrieve all of the results. You'll then parse these responses as a list of dictionaries (for further exploration) and create a map using Folium to visualize the results geographically.\n",
    "\n",
    "### Requirements\n",
    "\n",
    "#### 1. Make the Initial Request\n",
    "\n",
    "Start by filling in your API key to make the initial request to the business search API. Investigate the structure of the response you get back and start figuring out how you will extract the relevant information.\n",
    "\n",
    "#### 2. Add Pagination\n",
    "\n",
    "Using loops and functions, collect the maximum number of results for your query from the API.\n",
    "\n",
    "#### 3. Perform Exploratory Analysis\n",
    "\n",
    "Interpret visualizations related to the price range, average rating, and number of reviews for all query results.\n",
    "\n",
    "#### 4. Create a Folium Map\n",
    "\n",
    "Using latitude and longitude data, plot the query results on an interactive map."
   ]
  },
  {
   "cell_type": "markdown",
   "metadata": {},
   "source": [
    "## 1. Make the Initial Request\n",
    "\n",
    "### Querying\n",
    "\n",
    "Start by making an initial request to the Yelp API. Your search must include at least 2 parameters: **term** and **location**. For example, you might search for pizza restaurants in NYC. The term and location is up to you but make the request below.\n",
    "\n",
    "Use the `requests` library ([documentation here](https://requests.readthedocs.io/en/master/user/quickstart/#make-a-request)).\n",
    "\n",
    "You'll also need an API key from Yelp. If you haven't done this already, go to the Yelp [Manage App page](https://www.yelp.com/developers/v3/manage_app) and create a new app (after making an account if you haven't already)."
   ]
  },
  {
   "cell_type": "code",
   "execution_count": 3,
   "metadata": {},
   "outputs": [],
   "source": [
    "import json\n",
    "def get_keys(path):\n",
    "    with open (path) as f:\n",
    "        return json.load(f)"
   ]
  },
  {
   "cell_type": "code",
   "execution_count": 4,
   "metadata": {},
   "outputs": [
    {
     "data": {
      "text/plain": [
       "200"
      ]
     },
     "execution_count": 4,
     "metadata": {},
     "output_type": "execute_result"
    }
   ],
   "source": [
    "# Replace None with appropriate code\n",
    "\n",
    "# Import the requests library\n",
    "import requests\n",
    "\n",
    "# Get this from the \"Manage App\" page. Make sure you set them\n",
    "# back to None before pushing this to GitHub, since otherwise\n",
    "# your credentials will be compromised\n",
    "keys = get_keys('/Users/INSERT_USERNAME_HERE/.secret/yelp_api.json')\n",
    "api_key = keys['api_key']\n",
    "\n",
    "# These can be whatever you want! But the solution uses \"pizza\"\n",
    "# and \"New York NY\" if you want to compare your work directly\n",
    "term = 'pizza'\n",
    "location = 'New York NY'\n",
    "\n",
    "# Set up params for request\n",
    "url = \"https://api.yelp.com/v3/businesses/search\"\n",
    "headers = {\n",
    "    \"Authorization\": \"Bearer {}\".format(api_key)\n",
    "}\n",
    "url_params = {\n",
    "    \"term\": term.replace(\" \", \"+\"),\n",
    "    \"location\": location.replace(\" \", \"+\")\n",
    "}\n",
    "\n",
    "# Make the request using requests.get, passing in\n",
    "# url, headers=headers, and params=url_params\n",
    "response = requests.get(url, headers=headers, params=url_params)\n",
    "\n",
    "# Confirm we got a 200 response\n",
    "response.status_code"
   ]
  },
  {
   "cell_type": "code",
   "execution_count": 5,
   "metadata": {},
   "outputs": [
    {
     "data": {
      "text/plain": [
       "dict_keys(['businesses', 'total', 'region'])"
      ]
     },
     "execution_count": 5,
     "metadata": {},
     "output_type": "execute_result"
    }
   ],
   "source": [
    "# Run this cell without changes\n",
    "\n",
    "# Get the response body in JSON format\n",
    "response_json = response.json()\n",
    "# View the keys\n",
    "response_json.keys()"
   ]
  },
  {
   "cell_type": "markdown",
   "metadata": {},
   "source": [
    "### Extracting Data\n",
    "\n",
    "Now, retrieve the value associated with the `'businesses'` key, and inspect its contents."
   ]
  },
  {
   "cell_type": "code",
   "execution_count": 50,
   "metadata": {},
   "outputs": [
    {
     "data": {
      "text/plain": [
       "[{'id': 'zcPWqsiqaPpNh8nJXR4gpw',\n",
       "  'alias': 'the-commodore-brooklyn',\n",
       "  'name': 'The Commodore',\n",
       "  'image_url': 'https://s3-media2.fl.yelpcdn.com/bphoto/4Mw2a2-Q11134ExnGCw48A/o.jpg',\n",
       "  'is_closed': False,\n",
       "  'url': 'https://www.yelp.com/biz/the-commodore-brooklyn?adjust_creative=qroQ9zTnjIGiZNLrerwK0A&utm_campaign=yelp_api_v3&utm_medium=api_v3_business_search&utm_source=qroQ9zTnjIGiZNLrerwK0A',\n",
       "  'review_count': 626,\n",
       "  'categories': [{'alias': 'bars', 'title': 'Bars'},\n",
       "   {'alias': 'tradamerican', 'title': 'American (Traditional)'},\n",
       "   {'alias': 'sandwiches', 'title': 'Sandwiches'}],\n",
       "  'rating': 4.0,\n",
       "  'coordinates': {'latitude': 40.7138257110445,\n",
       "   'longitude': -73.9556050300598},\n",
       "  'transactions': ['delivery', 'pickup'],\n",
       "  'price': '$$',\n",
       "  'location': {'address1': '366 Metropolitan Ave',\n",
       "   'address2': '',\n",
       "   'address3': '',\n",
       "   'city': 'Brooklyn',\n",
       "   'zip_code': '11211',\n",
       "   'country': 'US',\n",
       "   'state': 'NY',\n",
       "   'display_address': ['366 Metropolitan Ave', 'Brooklyn, NY 11211']},\n",
       "  'phone': '+17182187632',\n",
       "  'display_phone': '(718) 218-7632',\n",
       "  'distance': 3391.5104952088423},\n",
       " {'id': 'ECFCa_3UJVyegTdQlKzU4Q',\n",
       "  'alias': 'benvenuti-pizzeria-new-york',\n",
       "  'name': 'Benvenuti Pizzeria',\n",
       "  'image_url': 'https://s3-media1.fl.yelpcdn.com/bphoto/UjPDfAmNlrFAq7RWKGNeIA/o.jpg',\n",
       "  'is_closed': False,\n",
       "  'url': 'https://www.yelp.com/biz/benvenuti-pizzeria-new-york?adjust_creative=qroQ9zTnjIGiZNLrerwK0A&utm_campaign=yelp_api_v3&utm_medium=api_v3_business_search&utm_source=qroQ9zTnjIGiZNLrerwK0A',\n",
       "  'review_count': 58,\n",
       "  'categories': [{'alias': 'pizza', 'title': 'Pizza'}],\n",
       "  'rating': 3.5,\n",
       "  'coordinates': {'latitude': 40.7097089406072,\n",
       "   'longitude': -74.0167829487317},\n",
       "  'transactions': ['delivery', 'pickup'],\n",
       "  'price': '$$',\n",
       "  'location': {'address1': '235 S End Ave',\n",
       "   'address2': '',\n",
       "   'address3': '',\n",
       "   'city': 'New York',\n",
       "   'zip_code': '10280',\n",
       "   'country': 'US',\n",
       "   'state': 'NY',\n",
       "   'display_address': ['235 S End Ave', 'New York, NY 10280']},\n",
       "  'phone': '+12129452100',\n",
       "  'display_phone': '(212) 945-2100',\n",
       "  'distance': 1954.0787824100003}]"
      ]
     },
     "execution_count": 50,
     "metadata": {},
     "output_type": "execute_result"
    }
   ],
   "source": [
    "# Replace None with appropriate code\n",
    "\n",
    "# Retrieve the value from response_json\n",
    "businesses = response_json['businesses']\n",
    "\n",
    "# View the first 2 records\n",
    "len(businesses)\n",
    "businesses[:2]"
   ]
  },
  {
   "cell_type": "markdown",
   "metadata": {},
   "source": [
    "### Preparing Data\n",
    "\n",
    "Write a function `prepare_data` that takes in a list of dictionaries like `businesses` and returns a copy that has been prepared for analysis:\n",
    "\n",
    "1. The `coordinates` key-value pair has been converted into two separate key-value pairs, `latitude` and `longitude`\n",
    "2. All other key-value pairs except for `name`, `review_count`, `rating`, and `price` have been dropped\n",
    "3. All dictionaries missing one of the relevant keys or containing null values have been dropped\n",
    "\n",
    "In other words, the final keys for each dictionary should be `name`, `review_count`, `rating`, `price`, `latitude`, and `longitude`.\n",
    "\n",
    "Complete the function in the cell below:"
   ]
  },
  {
   "cell_type": "code",
   "execution_count": 56,
   "metadata": {},
   "outputs": [
    {
     "data": {
      "text/plain": [
       "[{'name': 'The Commodore',\n",
       "  'review_count': 626,\n",
       "  'rating': 4.0,\n",
       "  'price': '$$',\n",
       "  'latitude': 40.7138257110445,\n",
       "  'longitude': -73.9556050300598},\n",
       " {'name': 'Benvenuti Pizzeria',\n",
       "  'review_count': 58,\n",
       "  'rating': 3.5,\n",
       "  'price': '$$',\n",
       "  'latitude': 40.7097089406072,\n",
       "  'longitude': -74.0167829487317},\n",
       " {'name': 'Family Pizza',\n",
       "  'review_count': 65,\n",
       "  'rating': 4.5,\n",
       "  'price': '$',\n",
       "  'latitude': 40.65585,\n",
       "  'longitude': -73.96008},\n",
       " {'name': 'Gino Pizzeria',\n",
       "  'review_count': 251,\n",
       "  'rating': 4.0,\n",
       "  'price': '$',\n",
       "  'latitude': 40.74776,\n",
       "  'longitude': -74.04788},\n",
       " {'name': 'Stella 34 Trattoria',\n",
       "  'review_count': 725,\n",
       "  'rating': 3.5,\n",
       "  'price': '$$$',\n",
       "  'latitude': 40.75049486336486,\n",
       "  'longitude': -73.98798861987918}]"
      ]
     },
     "execution_count": 56,
     "metadata": {},
     "output_type": "execute_result"
    }
   ],
   "source": [
    "# Replace None with appropriate code\n",
    "\n",
    "def prepare_data(data_list):\n",
    "    \"\"\"\n",
    "    This function takes in a list of dictionaries and prepares it\n",
    "    for analysis\n",
    "    \"\"\"\n",
    "    \n",
    "    # Make a new list to hold results\n",
    "    results = []\n",
    "    \n",
    "    for business_data in data_list:\n",
    "    \n",
    "        # Make a new dictionary to hold prepared data for this business\n",
    "        prepared_data = {}\n",
    "        \n",
    "        # Extract name, review_count, rating, and price key-value pairs\n",
    "        # from business_data and add to prepared_data\n",
    "        # If a key is not present in business_data, add it to prepared_data\n",
    "        # with an associated value of None\n",
    "        for key in (\"name\", \"review_count\", \"rating\", \"price\"):\n",
    "            prepared_data[key] = business_data.get(key, None)\n",
    "    \n",
    "        # Parse and add latitude and longitude columns\n",
    "        coordinates = business_data[\"coordinates\"]\n",
    "        prepared_data[\"latitude\"] = coordinates[\"latitude\"]\n",
    "        prepared_data[\"longitude\"] = coordinates[\"longitude\"]\n",
    "        \n",
    "        # Add to list if all values are present\n",
    "        if all(prepared_data.values()):\n",
    "            results.append(prepared_data)\n",
    "    \n",
    "    return results\n",
    "    \n",
    "# Test out function\n",
    "prepared_businesses = prepare_data(businesses)\n",
    "prepared_businesses[:5]"
   ]
  },
  {
   "cell_type": "code",
   "execution_count": 57,
   "metadata": {},
   "outputs": [
    {
     "name": "stdout",
     "output_type": "stream",
     "text": [
      "False\n"
     ]
    }
   ],
   "source": [
    "mytuple = (1, True, None)\n",
    "x = all(mytuple)\n",
    "print(x)"
   ]
  },
  {
   "cell_type": "markdown",
   "metadata": {},
   "source": [
    "Check that your function created the correct keys:"
   ]
  },
  {
   "cell_type": "code",
   "execution_count": 15,
   "metadata": {},
   "outputs": [],
   "source": [
    "# Run this cell without changes\n",
    "\n",
    "assert sorted(list(prepared_businesses[0].keys())) == ['latitude', 'longitude', 'name', 'price', 'rating', 'review_count']"
   ]
  },
  {
   "cell_type": "markdown",
   "metadata": {},
   "source": [
    "The following code will differ depending on your query, but we expect there to be 20 businesses in the original list, and potentially fewer in the prepared list (if any of them were missing data):"
   ]
  },
  {
   "cell_type": "code",
   "execution_count": 16,
   "metadata": {},
   "outputs": [
    {
     "name": "stdout",
     "output_type": "stream",
     "text": [
      "Original: 20\n",
      "Prepared: 20\n"
     ]
    }
   ],
   "source": [
    "# Run this cell without changes\n",
    "print(\"Original:\", len(businesses))\n",
    "print(\"Prepared:\", len(prepared_businesses))"
   ]
  },
  {
   "cell_type": "markdown",
   "metadata": {},
   "source": [
    "Great! We will reuse this function once we have retrieved the full dataset."
   ]
  },
  {
   "cell_type": "markdown",
   "metadata": {},
   "source": [
    "## 2. Add Pagination\n",
    "\n",
    "Now that you are able to extract information from one page of the response, let's figure out how to request as many pages as possible.\n",
    "\n",
    "### Determining the Total\n",
    "\n",
    "Depending on the number of total results for your query, you will either retrieve all of the results, or just the first 1000 (if there are more than 1000 total).\n",
    "\n",
    "We can find the total number of results using the `\"total\"` key:"
   ]
  },
  {
   "cell_type": "code",
   "execution_count": 12,
   "metadata": {},
   "outputs": [
    {
     "data": {
      "text/plain": [
       "12300"
      ]
     },
     "execution_count": 12,
     "metadata": {},
     "output_type": "execute_result"
    }
   ],
   "source": [
    "# Run this cell without changes\n",
    "response_json[\"total\"]"
   ]
  },
  {
   "cell_type": "markdown",
   "metadata": {},
   "source": [
    "(This is specific to the implementation of the Yelp API. Some APIs will just tell you that there are more pages, or will tell you the number of pages total, rather than the total number of results. If you're not sure, always check the documentation.)\n",
    "\n",
    "In the cell below, assign the variable `total` to either the value shown above (if it is less than 1000), or 1000."
   ]
  },
  {
   "cell_type": "code",
   "execution_count": 13,
   "metadata": {},
   "outputs": [],
   "source": [
    "# Replace None with appropriate code\n",
    "total = 1000"
   ]
  },
  {
   "cell_type": "markdown",
   "metadata": {},
   "source": [
    "### Calculating the Offsets\n",
    "\n",
    "The documentation states in the parameters section:\n",
    "\n",
    "> **Name**: `limit`, **Type:** int, **Description:** Optional. Number of business results to return. By default, it will return 20. Maximum is 50.\n",
    "\n",
    "> **Name**: `offset`, **Type:** int, **Description:** Optional. Offset the list of returned business results by this amount.\n",
    "\n",
    "So, to get the most results with the fewest API calls we want to set a limit of 50 every time. If, say, we wanted to get 210 total results, that would mean:\n",
    "\n",
    "1. Offset of `0` (first 50 records)\n",
    "2. Offset of `50` (second 50 records)\n",
    "3. Offset of `100` (third 50 records)\n",
    "4. Offset of `150` (fourth 50 records)\n",
    "5. Offset of `200` (final 10 records)\n",
    "\n",
    "In the cell below, create a function `get_offsets` that takes in a total and returns a list of offsets for that total. You can assume that there is a limit of 50 every time.\n",
    "\n",
    "*Hint: you can use `range` ([documentation here](https://docs.python.org/3.3/library/stdtypes.html?highlight=range#range)) to do this in one line of code. Just make the returned result is a list.*"
   ]
  },
  {
   "cell_type": "code",
   "execution_count": 23,
   "metadata": {},
   "outputs": [],
   "source": [
    "# Replace None with appropriate code\n",
    "def get_offsets(total):\n",
    "    \"\"\"\n",
    "    Get a list of offsets needed to get all pages\n",
    "    of data up until the total\n",
    "    \"\"\"\n",
    "    return list(range(0,total,50))"
   ]
  },
  {
   "cell_type": "markdown",
   "metadata": {},
   "source": [
    "Check that your function works below:"
   ]
  },
  {
   "cell_type": "code",
   "execution_count": 24,
   "metadata": {},
   "outputs": [],
   "source": [
    "# Run this cell without changes\n",
    "\n",
    "assert get_offsets(200) == [0, 50, 100, 150]\n",
    "assert get_offsets(210) == [0, 50, 100, 150, 200]"
   ]
  },
  {
   "cell_type": "markdown",
   "metadata": {},
   "source": [
    "### Putting It All Together\n",
    "\n",
    "Recall that the following variable has already been declared for you:"
   ]
  },
  {
   "cell_type": "code",
   "execution_count": 25,
   "metadata": {},
   "outputs": [
    {
     "data": {
      "text/plain": [
       "{'term': 'pizza', 'location': 'New+York+NY'}"
      ]
     },
     "execution_count": 25,
     "metadata": {},
     "output_type": "execute_result"
    }
   ],
   "source": [
    "# Run this cell without changes\n",
    "url_params"
   ]
  },
  {
   "cell_type": "markdown",
   "metadata": {},
   "source": [
    "We'll go ahead and also specify that the limit should be 50 every time:"
   ]
  },
  {
   "cell_type": "code",
   "execution_count": 26,
   "metadata": {},
   "outputs": [],
   "source": [
    "# Run this cell without changes\n",
    "url_params[\"limit\"] = 50"
   ]
  },
  {
   "cell_type": "markdown",
   "metadata": {},
   "source": [
    "In order to modify the offset, you'll need to add it to `url_params` with the key `\"offset\"` and whatever value is needed.\n",
    "\n",
    "In the cell below, write code that:\n",
    "\n",
    "* Creates an empty list for the full prepared dataset\n",
    "* Loops over all of the offsets from `get_offsets` and makes an API call each time with the specified offset\n",
    "* Calls `prepare_data` to get a cleaned version of the result of each API call\n",
    "* Extends the full prepared dataset list with each query's prepared dataset"
   ]
  },
  {
   "cell_type": "code",
   "execution_count": 40,
   "metadata": {},
   "outputs": [
    {
     "data": {
      "text/plain": [
       "[{'name': 'Prince Street Pizza',\n",
       "  'review_count': 4600,\n",
       "  'rating': 4.5,\n",
       "  'price': '$',\n",
       "  'latitude': 40.72308755605564,\n",
       "  'longitude': -73.99453001177575},\n",
       " {'name': \"Juliana's\",\n",
       "  'review_count': 2560,\n",
       "  'rating': 4.5,\n",
       "  'price': '$$',\n",
       "  'latitude': 40.70274718768062,\n",
       "  'longitude': -73.99343490196397},\n",
       " {'name': \"L'industrie Pizzeria\",\n",
       "  'review_count': 815,\n",
       "  'rating': 4.5,\n",
       "  'price': '$',\n",
       "  'latitude': 40.71162,\n",
       "  'longitude': -73.95783},\n",
       " {'name': 'Rubirosa',\n",
       "  'review_count': 2821,\n",
       "  'rating': 4.5,\n",
       "  'price': '$$',\n",
       "  'latitude': 40.722766,\n",
       "  'longitude': -73.996233},\n",
       " {'name': \"Joe's Pizza\",\n",
       "  'review_count': 2913,\n",
       "  'rating': 4.0,\n",
       "  'price': '$',\n",
       "  'latitude': 40.73060076,\n",
       "  'longitude': -74.00215997}]"
      ]
     },
     "execution_count": 40,
     "metadata": {},
     "output_type": "execute_result"
    }
   ],
   "source": [
    "# Replace None with appropriate code\n",
    "\n",
    "# Create an empty list for the full prepared dataset\n",
    "full_dataset = []\n",
    "\n",
    "for offset in get_offsets(total):\n",
    "    # Add or update the \"offset\" key-value pair in url_params\n",
    "    url_params[\"offset\"] = offset\n",
    "    \n",
    "    # Make the query and get the response\n",
    "    response = requests.get(url, headers=headers, params=url_params)\n",
    "    \n",
    "    # Get the response body in JSON format\n",
    "    response_json = response.json()\n",
    "    \n",
    "    # Get the list of businesses from the response_json\n",
    "    businesses = response_json[\"businesses\"]\n",
    "    \n",
    "    # Call the prepare_data function to get a list of processed data\n",
    "    prepared_businesses = prepare_data(businesses)\n",
    "    \n",
    "    # Extend full_dataset with this list (don't append, or you'll get\n",
    "    # a list of lists instead of a flat list)\n",
    "    full_dataset.extend(prepared_businesses)\n",
    "\n",
    "# Check the length of the full dataset. It will be up to `total`,\n",
    "# potentially less if there were missing values\n",
    "len(full_dataset)\n",
    "full_dataset[:5]"
   ]
  },
  {
   "cell_type": "markdown",
   "metadata": {},
   "source": [
    "This code may take up to a few minutes to run.\n",
    "\n",
    "If you get an error trying to get the response body in JSON format, try adding `time.sleep(1)` right after the `requests.get` line, so your code will sleep for 1 second between each API call."
   ]
  },
  {
   "cell_type": "markdown",
   "metadata": {},
   "source": [
    "## 3. Perform Exploratory Analysis\n",
    "\n",
    "Take the businesses from the previous question and do an initial exploratory analysis. We have provided some plots for you to interpret:"
   ]
  },
  {
   "cell_type": "code",
   "execution_count": 36,
   "metadata": {},
   "outputs": [
    {
     "data": {
      "image/png": "[encoded data removed]",
      "text/plain": [
       "<Figure size 1152x360 with 3 Axes>"
      ]
     },
     "metadata": {
      "needs_background": "light"
     },
     "output_type": "display_data"
    }
   ],
   "source": [
    "# Run this cell without changes\n",
    "from collections import Counter\n",
    "import matplotlib.pyplot as plt\n",
    "%matplotlib inline\n",
    "\n",
    "fig, (ax1, ax2, ax3) = plt.subplots(ncols=3, figsize=(16, 5))\n",
    "\n",
    "# Plot distribution of number of reviews\n",
    "all_review_counts = [x[\"review_count\"] for x in full_dataset]\n",
    "ax1.hist(all_review_counts)\n",
    "ax1.set_title(\"Review Count Distribution\")\n",
    "ax1.set_xlabel(\"Number of Reviews\")\n",
    "ax1.set_ylabel(\"Number of Businesses\")\n",
    "\n",
    "# Plot rating distribution\n",
    "all_ratings = [x[\"rating\"] for x in full_dataset]\n",
    "rating_counter = Counter(all_ratings)\n",
    "rating_keys = sorted(rating_counter.keys())\n",
    "ax2.bar(rating_keys, [rating_counter[key] for key in rating_keys])\n",
    "ax2.set_title(\"Rating Distribution\")\n",
    "ax2.set_xlabel(\"Rating\")\n",
    "ax2.set_ylabel(\"Number of Businesses\")\n",
    "\n",
    "# Plot price distribution\n",
    "all_prices = [x[\"price\"].replace(\"$\", r\"\\$\") for x in full_dataset]\n",
    "price_counter = Counter(all_prices)\n",
    "price_keys = sorted(price_counter.keys())\n",
    "ax3.bar(price_keys, [price_counter[key] for key in price_keys])\n",
    "ax3.set_title(\"Price Distribution\")\n",
    "ax3.set_xlabel(\"Price Category\")\n",
    "ax3.set_ylabel(\"Number of Businesses\");"
   ]
  },
  {
   "cell_type": "markdown",
   "metadata": {},
   "source": [
    "Describe the distributions displayed above and interpret them in the context of your query. (Your answer may differ from the solution branch depending on your query.)"
   ]
  },
  {
   "cell_type": "code",
   "execution_count": 37,
   "metadata": {},
   "outputs": [
    {
     "data": {
      "text/plain": [
       "'\\nMost restaurants have less then 1000 reviews. There is a relatively normal distribution\\nfor rating with its center arnd 4. the vast majority of restaurants are low price or 2nd \\nto lowest price.\\n'"
      ]
     },
     "execution_count": 37,
     "metadata": {},
     "output_type": "execute_result"
    }
   ],
   "source": [
    "# Replace None with appropriate text\n",
    "\"\"\"\n",
    "Most restaurants have less then 1000 reviews. There is a relatively normal distribution\n",
    "for rating with its center arnd 4. the vast majority of restaurants are low price or 2nd \n",
    "to lowest price.\n",
    "\"\"\""
   ]
  },
  {
   "cell_type": "markdown",
   "metadata": {},
   "source": [
    "In the cell below, we also plot the rating distributions by price. In this setup, a price of one dollar sign is \"lower price\" and everything else is \"higher price\"."
   ]
  },
  {
   "cell_type": "code",
   "execution_count": 38,
   "metadata": {},
   "outputs": [
    {
     "data": {
      "image/png": "[encoded data removed]",
      "text/plain": [
       "<Figure size 432x288 with 1 Axes>"
      ]
     },
     "metadata": {
      "needs_background": "light"
     },
     "output_type": "display_data"
    }
   ],
   "source": [
    "# Run this cell without changes\n",
    "\n",
    "higher_price = []\n",
    "lower_price = []\n",
    "for row in full_dataset:\n",
    "    if row[\"price\"] == \"$\":\n",
    "        lower_price.append(row[\"rating\"])\n",
    "    else:\n",
    "        higher_price.append(row[\"rating\"])\n",
    "        \n",
    "fig, ax = plt.subplots()\n",
    "\n",
    "ax.hist([higher_price, lower_price], label=[\"higher price\", \"lower price\"], density=True)\n",
    "\n",
    "ax.legend();"
   ]
  },
  {
   "cell_type": "markdown",
   "metadata": {},
   "source": [
    "Is a higher price associated with a higher rating? (No need for any additional math/statistics, just interpret what you see in the plot.)"
   ]
  },
  {
   "cell_type": "code",
   "execution_count": null,
   "metadata": {},
   "outputs": [],
   "source": [
    "# Replace None with appropriate text\n",
    "\"\"\"\n",
    "not necessarily, both ratings seem to be normal, with lower price having a rating centering \n",
    "arnd 4, prob with an avg a little below 4. While higher price has a center also around 4 with \n",
    "avg prob slightly above 4.\n",
    "\"\"\""
   ]
  },
  {
   "cell_type": "markdown",
   "metadata": {},
   "source": [
    "Finally, let's look at ratings vs. review counts:"
   ]
  },
  {
   "cell_type": "code",
   "execution_count": 39,
   "metadata": {},
   "outputs": [
    {
     "data": {
      "image/png": "[encoded data removed]",
      "text/plain": [
       "<Figure size 1152x360 with 1 Axes>"
      ]
     },
     "metadata": {
      "needs_background": "light"
     },
     "output_type": "display_data"
    }
   ],
   "source": [
    "# Run this cell without changes\n",
    "fig, ax = plt.subplots(figsize=(16,5))\n",
    "\n",
    "ax.scatter(all_review_counts, all_ratings, alpha=0.2)\n",
    "ax.set_xlabel(\"Number of Reviews\")\n",
    "ax.set_ylabel(\"Rating\")\n",
    "# \"zoom in\" to a subset of review counts\n",
    "ax.set_xlim(left=0, right=1000);"
   ]
  },
  {
   "cell_type": "markdown",
   "metadata": {},
   "source": [
    "Is a higher number of reviews associated with a higher rating?"
   ]
  },
  {
   "cell_type": "code",
   "execution_count": null,
   "metadata": {},
   "outputs": [],
   "source": [
    "# Replace None with appropriate text\n",
    "\"\"\"\n",
    "Sort of. All restaurants with over 450 views have a rating btwn 3.5-4.5 this is prob bc the\n",
    "law of large numbers. In the reverse the restaurants with ratings of 5 or the 3 and below have\n",
    "fewer ratings, this is prob bc they had customers with more extreme experiences.\n",
    "\"\"\""
   ]
  },
  {
   "cell_type": "markdown",
   "metadata": {},
   "source": [
    "## 4. Create a Folium Map\n",
    "\n",
    "Make a map using Folium of the businesses you retrieved. Be sure to also add popups to the markers giving some basic information such as name, rating and price.\n",
    "\n",
    "You can center the map around the latitude and longitude of the first item in `full_dataset`."
   ]
  },
  {
   "cell_type": "code",
   "execution_count": 46,
   "metadata": {},
   "outputs": [
    {
     "data": {
      "text/html": [
       "<div style=\"width:100%;\"><div style=\"position:relative;width:100%;height:0;padding-bottom:60%;\"><span style=\"color:#565656\">Make this Notebook Trusted to load map: File -> Trust Notebook</span><iframe src=\"about:blank\" style=\"position:absolute;width:100%;height:100%;left:0;top:0;border:none !important;\" data-html=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 onload=\"this.contentDocument.open();this.contentDocument.write(atob(this.getAttribute('data-html')));this.contentDocument.close();\" allowfullscreen webkitallowfullscreen mozallowfullscreen></iframe></div></div>"
      ],
      "text/plain": [
       "<folium.folium.Map at 0x7fca906ade20>"
      ]
     },
     "execution_count": 46,
     "metadata": {},
     "output_type": "execute_result"
    }
   ],
   "source": [
    "# Replace None with appropriate code\n",
    "\n",
    "# Import the library\n",
    "import folium\n",
    "\n",
    "# Set up center latitude and longitude\n",
    "center_lat = full_dataset[0][\"latitude\"]\n",
    "center_long = full_dataset[0][\"longitude\"]\n",
    "\n",
    "# Initialize map with center lat and long\n",
    "yelp_map = folium.Map([center_lat,center_long], zoom_start = 12)\n",
    "\n",
    "# Adjust this limit to see more or fewer businesses\n",
    "limit=100\n",
    "\n",
    "for business in full_dataset[:limit]:\n",
    "    # Extract information about business\n",
    "    lat = business['latitude']\n",
    "    long = business['longitude']\n",
    "    name = business['name']\n",
    "    rating = business['rating']\n",
    "    price = business['price']\n",
    "    details = \"{}\\nPrice: {} Rating:{}\".format(name,price,rating)\n",
    "    \n",
    "    # Create popup with relevant details\n",
    "    popup = folium.Popup(details)\n",
    "    \n",
    "    # Create marker with relevant lat/long and popup\n",
    "    marker = folium.Marker([lat,long], popup=popup)\n",
    "    \n",
    "    marker.add_to(yelp_map)\n",
    "    \n",
    "yelp_map"
   ]
  },
  {
   "cell_type": "markdown",
   "metadata": {},
   "source": [
    "## Summary\n",
    "\n",
    "Nice work! In this lab, you've made multiple API calls to Yelp in order to paginate through a results set, performing some basic exploratory analysis and then creating a nice interactive map to display the results using Folium! Well done!"
   ]
  }
 ],
 "metadata": {
  "kernelspec": {
   "display_name": "Python 3",
   "language": "python",
   "name": "python3"
  },
  "language_info": {
   "codemirror_mode": {
    "name": "ipython",
    "version": 3
   },
   "file_extension": ".py",
   "mimetype": "text/x-python",
   "name": "python",
   "nbconvert_exporter": "python",
   "pygments_lexer": "ipython3",
   "version": "3.8.5"
  },
  "toc": {
   "base_numbering": 1,
   "nav_menu": {},
   "number_sections": true,
   "sideBar": true,
   "skip_h1_title": false,
   "title_cell": "Table of Contents",
   "title_sidebar": "Contents",
   "toc_cell": false,
   "toc_position": {},
   "toc_section_display": true,
   "toc_window_display": false
  }
 },
 "nbformat": 4,
 "nbformat_minor": 2
}
